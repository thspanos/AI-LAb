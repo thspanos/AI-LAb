{
  "nbformat": 4,
  "nbformat_minor": 0,
  "metadata": {
    "colab": {
      "provenance": [],
      "toc_visible": true,
      "authorship_tag": "ABX9TyNb22+DD20taTlrgYCStzjx",
      "include_colab_link": true
    },
    "kernelspec": {
      "name": "python3",
      "display_name": "Python 3"
    },
    "language_info": {
      "name": "python"
    }
  },
  "cells": [
    {
      "cell_type": "markdown",
      "metadata": {
        "id": "view-in-github",
        "colab_type": "text"
      },
      "source": [
        "<a href=\"https://colab.research.google.com/github/thspanos/AI-LAb/blob/main/IDS_example_Thomas_Spanos.ipynb\" target=\"_parent\"><img src=\"https://colab.research.google.com/assets/colab-badge.svg\" alt=\"Open In Colab\"/></a>"
      ]
    },
    {
      "cell_type": "code",
      "source": [
        "#εγκατάσταση πακέτου tensorflow (hhttps://www.tensorflow.org/)\n",
        "!pip install tensorflow\n",
        "#εγκατάσταση πακέτου scikit-learn (https://scikit-learn.org/)\n",
        "!pip install scikit-learn"
      ],
      "metadata": {
        "colab": {
          "base_uri": "https://localhost:8080/"
        },
        "id": "HwJGJBDD7KcD",
        "outputId": "1e98e378-b069-47b8-be9c-fb651d2a31c7"
      },
      "execution_count": 1,
      "outputs": [
        {
          "output_type": "stream",
          "name": "stdout",
          "text": [
            "Requirement already satisfied: tensorflow in /usr/local/lib/python3.12/dist-packages (2.19.0)\n",
            "Requirement already satisfied: absl-py>=1.0.0 in /usr/local/lib/python3.12/dist-packages (from tensorflow) (1.4.0)\n",
            "Requirement already satisfied: astunparse>=1.6.0 in /usr/local/lib/python3.12/dist-packages (from tensorflow) (1.6.3)\n",
            "Requirement already satisfied: flatbuffers>=24.3.25 in /usr/local/lib/python3.12/dist-packages (from tensorflow) (25.2.10)\n",
            "Requirement already satisfied: gast!=0.5.0,!=0.5.1,!=0.5.2,>=0.2.1 in /usr/local/lib/python3.12/dist-packages (from tensorflow) (0.6.0)\n",
            "Requirement already satisfied: google-pasta>=0.1.1 in /usr/local/lib/python3.12/dist-packages (from tensorflow) (0.2.0)\n",
            "Requirement already satisfied: libclang>=13.0.0 in /usr/local/lib/python3.12/dist-packages (from tensorflow) (18.1.1)\n",
            "Requirement already satisfied: opt-einsum>=2.3.2 in /usr/local/lib/python3.12/dist-packages (from tensorflow) (3.4.0)\n",
            "Requirement already satisfied: packaging in /usr/local/lib/python3.12/dist-packages (from tensorflow) (25.0)\n",
            "Requirement already satisfied: protobuf!=4.21.0,!=4.21.1,!=4.21.2,!=4.21.3,!=4.21.4,!=4.21.5,<6.0.0dev,>=3.20.3 in /usr/local/lib/python3.12/dist-packages (from tensorflow) (5.29.5)\n",
            "Requirement already satisfied: requests<3,>=2.21.0 in /usr/local/lib/python3.12/dist-packages (from tensorflow) (2.32.4)\n",
            "Requirement already satisfied: setuptools in /usr/local/lib/python3.12/dist-packages (from tensorflow) (75.2.0)\n",
            "Requirement already satisfied: six>=1.12.0 in /usr/local/lib/python3.12/dist-packages (from tensorflow) (1.17.0)\n",
            "Requirement already satisfied: termcolor>=1.1.0 in /usr/local/lib/python3.12/dist-packages (from tensorflow) (3.1.0)\n",
            "Requirement already satisfied: typing-extensions>=3.6.6 in /usr/local/lib/python3.12/dist-packages (from tensorflow) (4.15.0)\n",
            "Requirement already satisfied: wrapt>=1.11.0 in /usr/local/lib/python3.12/dist-packages (from tensorflow) (1.17.3)\n",
            "Requirement already satisfied: grpcio<2.0,>=1.24.3 in /usr/local/lib/python3.12/dist-packages (from tensorflow) (1.74.0)\n",
            "Requirement already satisfied: tensorboard~=2.19.0 in /usr/local/lib/python3.12/dist-packages (from tensorflow) (2.19.0)\n",
            "Requirement already satisfied: keras>=3.5.0 in /usr/local/lib/python3.12/dist-packages (from tensorflow) (3.10.0)\n",
            "Requirement already satisfied: numpy<2.2.0,>=1.26.0 in /usr/local/lib/python3.12/dist-packages (from tensorflow) (2.0.2)\n",
            "Requirement already satisfied: h5py>=3.11.0 in /usr/local/lib/python3.12/dist-packages (from tensorflow) (3.14.0)\n",
            "Requirement already satisfied: ml-dtypes<1.0.0,>=0.5.1 in /usr/local/lib/python3.12/dist-packages (from tensorflow) (0.5.3)\n",
            "Requirement already satisfied: wheel<1.0,>=0.23.0 in /usr/local/lib/python3.12/dist-packages (from astunparse>=1.6.0->tensorflow) (0.45.1)\n",
            "Requirement already satisfied: rich in /usr/local/lib/python3.12/dist-packages (from keras>=3.5.0->tensorflow) (13.9.4)\n",
            "Requirement already satisfied: namex in /usr/local/lib/python3.12/dist-packages (from keras>=3.5.0->tensorflow) (0.1.0)\n",
            "Requirement already satisfied: optree in /usr/local/lib/python3.12/dist-packages (from keras>=3.5.0->tensorflow) (0.17.0)\n",
            "Requirement already satisfied: charset_normalizer<4,>=2 in /usr/local/lib/python3.12/dist-packages (from requests<3,>=2.21.0->tensorflow) (3.4.3)\n",
            "Requirement already satisfied: idna<4,>=2.5 in /usr/local/lib/python3.12/dist-packages (from requests<3,>=2.21.0->tensorflow) (3.10)\n",
            "Requirement already satisfied: urllib3<3,>=1.21.1 in /usr/local/lib/python3.12/dist-packages (from requests<3,>=2.21.0->tensorflow) (2.5.0)\n",
            "Requirement already satisfied: certifi>=2017.4.17 in /usr/local/lib/python3.12/dist-packages (from requests<3,>=2.21.0->tensorflow) (2025.8.3)\n",
            "Requirement already satisfied: markdown>=2.6.8 in /usr/local/lib/python3.12/dist-packages (from tensorboard~=2.19.0->tensorflow) (3.8.2)\n",
            "Requirement already satisfied: tensorboard-data-server<0.8.0,>=0.7.0 in /usr/local/lib/python3.12/dist-packages (from tensorboard~=2.19.0->tensorflow) (0.7.2)\n",
            "Requirement already satisfied: werkzeug>=1.0.1 in /usr/local/lib/python3.12/dist-packages (from tensorboard~=2.19.0->tensorflow) (3.1.3)\n",
            "Requirement already satisfied: MarkupSafe>=2.1.1 in /usr/local/lib/python3.12/dist-packages (from werkzeug>=1.0.1->tensorboard~=2.19.0->tensorflow) (3.0.2)\n",
            "Requirement already satisfied: markdown-it-py>=2.2.0 in /usr/local/lib/python3.12/dist-packages (from rich->keras>=3.5.0->tensorflow) (4.0.0)\n",
            "Requirement already satisfied: pygments<3.0.0,>=2.13.0 in /usr/local/lib/python3.12/dist-packages (from rich->keras>=3.5.0->tensorflow) (2.19.2)\n",
            "Requirement already satisfied: mdurl~=0.1 in /usr/local/lib/python3.12/dist-packages (from markdown-it-py>=2.2.0->rich->keras>=3.5.0->tensorflow) (0.1.2)\n",
            "Requirement already satisfied: scikit-learn in /usr/local/lib/python3.12/dist-packages (1.6.1)\n",
            "Requirement already satisfied: numpy>=1.19.5 in /usr/local/lib/python3.12/dist-packages (from scikit-learn) (2.0.2)\n",
            "Requirement already satisfied: scipy>=1.6.0 in /usr/local/lib/python3.12/dist-packages (from scikit-learn) (1.16.1)\n",
            "Requirement already satisfied: joblib>=1.2.0 in /usr/local/lib/python3.12/dist-packages (from scikit-learn) (1.5.1)\n",
            "Requirement already satisfied: threadpoolctl>=3.1.0 in /usr/local/lib/python3.12/dist-packages (from scikit-learn) (3.6.0)\n"
          ]
        }
      ]
    },
    {
      "cell_type": "code",
      "source": [
        "import matplotlib.pyplot as plt\n",
        "from tensorflow.keras.utils import plot_model\n",
        "import pandas as pd\n",
        "import numpy as np\n",
        "from sklearn.model_selection import train_test_split\n",
        "from sklearn.metrics import confusion_matrix\n",
        "from keras.callbacks import ModelCheckpoint, EarlyStopping\n",
        "import os\n",
        "from tensorflow.keras.utils import to_categorical\n",
        "from sklearn.utils import class_weight\n",
        "\n",
        "try:\n",
        "    from models import models_ddos\n",
        "except ModuleNotFoundError:\n",
        "    models_ddos = None  # placeholder για να μην αποτύχει το import τώρα"
      ],
      "metadata": {
        "id": "9qqg6hzexL7L"
      },
      "execution_count": 2,
      "outputs": []
    },
    {
      "cell_type": "code",
      "source": [
        "epochs = 100\n",
        "nclass = 3  # το dataset έχει 3 κλάσεις"
      ],
      "metadata": {
        "id": "AynqOkUZGvmQ"
      },
      "execution_count": 3,
      "outputs": []
    },
    {
      "cell_type": "code",
      "source": [
        "def loadDataset():\n",
        "    # Put dataset path here !\n",
        "    filename = 'https://raw.githubusercontent.com/thspanos/AI-LAb/refs/heads/main/Data/pcap_data.csv'\n",
        "\n",
        "    trainfile = pd.read_csv(filename)\n",
        "\n",
        "    # --- labels από τη στήλη 'target' (όπως είναι στο dataset) ---\n",
        "    label = trainfile['target'].astype('str')\n",
        "\n",
        "    # --- Χρήση όλων των features εκτός του target (αντί του inx_sel του παλιού dataset) ---\n",
        "    data = trainfile.drop(columns=['target']).to_numpy()\n",
        "\n",
        "    # MIN-MAX normalization (όπως είχες)\n",
        "    dmin = data.min(axis=0)\n",
        "    dmax = data.max(axis=0)\n",
        "    data = (data - dmin) / (dmax - dmin)\n",
        "    # data = np.log(data - dmin + 1.0)\n",
        "\n",
        "    # Test data 20%\n",
        "    train_data, test_data, train_label, test_label = \\\n",
        "        train_test_split(data, label, test_size=0.20, stratify=label)\n",
        "\n",
        "    # Train 70%, Validation 10%\n",
        "    train_data, val_data, train_label, val_label = \\\n",
        "        train_test_split(train_data, train_label, test_size=0.125, stratify=train_label)\n",
        "\n",
        "    return (train_data.astype('float32'), train_label.astype(str),\n",
        "            val_data.astype('float32'),   val_label.astype(str),\n",
        "            test_data.astype('float32'),  test_label.astype(str))"
      ],
      "metadata": {
        "id": "ITzUw_2R8zAx"
      },
      "execution_count": 4,
      "outputs": []
    },
    {
      "cell_type": "code",
      "source": [
        "# -- LOAD DATA -----------------------------------------------------------------\n",
        "train_data, train_labelp, val_data, val_labelp, test_data, test_labelp = loadDataset()\n",
        "\n",
        "# labels -> int (π.χ. '2.0' -> 2)\n",
        "train_labelp = pd.to_numeric(train_labelp, errors='coerce').astype('int32')\n",
        "val_labelp   = pd.to_numeric(val_labelp,   errors='coerce').astype('int32')\n",
        "test_labelp  = pd.to_numeric(test_labelp,  errors='coerce').astype('int32')\n",
        "\n",
        "# to_categorical\n",
        "train_label = to_categorical(train_labelp, nclass)\n",
        "val_label   = to_categorical(val_labelp,   nclass)\n",
        "test_label  = to_categorical(test_labelp,  nclass)\n",
        "\n",
        "print('train_data.shape=', train_data.shape)\n",
        "print('test_data.shape=',  test_data.shape)\n",
        "print('test_data.shape=',  val_data.shape)\n",
        "\n",
        "# get the number of features\n",
        "inshape = train_data.shape[1]\n",
        "\n",
        "# Class balancing weights\n",
        "class_weights = class_weight.compute_class_weight(\n",
        "    class_weight='balanced',\n",
        "    classes=np.unique(train_labelp),\n",
        "    y=train_labelp\n",
        ")\n",
        "\n",
        "class_weights = {i: class_weights[i] for i in range(len(class_weights))}"
      ],
      "metadata": {
        "colab": {
          "base_uri": "https://localhost:8080/"
        },
        "id": "Rm1s8e8Q8-2T",
        "outputId": "a9fba849-2000-4893-cd24-110eff6229ea"
      },
      "execution_count": 6,
      "outputs": [
        {
          "output_type": "stream",
          "name": "stdout",
          "text": [
            "train_data.shape= (10476, 25)\n",
            "test_data.shape= (2994, 25)\n",
            "test_data.shape= (1497, 25)\n"
          ]
        }
      ]
    },
    {
      "cell_type": "code",
      "source": [
        "os.makedirs('./savemodels', exist_ok=True)\n",
        "\n",
        "earlyStopping = EarlyStopping(\n",
        "    monitor='val_loss',\n",
        "    patience=30,\n",
        "    verbose=0,\n",
        "    mode='min'\n",
        ")\n",
        "\n",
        "# val_acc -> val_accuracy (όνομα metric στα logs του TF/Keras)\n",
        "modelCheckPoint = ModelCheckpoint(\n",
        "    './savemodels/model5class.{epoch:03d}-{val_accuracy:.4f}.weights.h5',\n",
        "    save_best_only=True,\n",
        "    save_weights_only=True,\n",
        "    monitor='val_accuracy',\n",
        "    mode='max'\n",
        ")\n",
        "\n",
        "# reduce_lr_loss = ReduceLROnPlateau(\n",
        "#     monitor='val_loss',\n",
        "#     factor=0.1,\n",
        "#     patience=7,\n",
        "#     verbose=1,\n",
        "#     epsilon=1e-4,\n",
        "#     mode='min'\n",
        "# )"
      ],
      "metadata": {
        "id": "Q0TuRphs8_FZ"
      },
      "execution_count": 9,
      "outputs": []
    },
    {
      "cell_type": "code",
      "source": [
        "    # -- Baseline models-----------------------------------------------------------\n",
        "# Αν δεν υπάρχει το τοπικό module `models_ddos`, ορίζουμε ελάχιστο fallback για να δουλέψει στο Colab\n",
        "if models_ddos is None:\n",
        "    import tensorflow as tf\n",
        "    from tensorflow.keras import layers, models as kmodels\n",
        "\n",
        "    def _model_conv1D(lr, N, inshape):\n",
        "        # Δέχεται 2D input (batch, inshape) και το μετατρέπει εσωτερικά σε (batch, inshape, 1)\n",
        "        inputs = tf.keras.Input(shape=(inshape,))\n",
        "        x = layers.Lambda(lambda t: tf.expand_dims(t, axis=-1))(inputs)\n",
        "        x = layers.Conv1D(N, kernel_size=3, padding='same', activation='relu')(x)\n",
        "        x = layers.MaxPooling1D(pool_size=2)(x)\n",
        "        x = layers.Conv1D(N, kernel_size=3, padding='same', activation='relu')(x)\n",
        "        x = layers.GlobalAveragePooling1D()(x)\n",
        "        x = layers.Dense(N, activation='relu')(x)\n",
        "        outputs = layers.Dense(nclass, activation='softmax')(x)\n",
        "        model = tf.keras.Model(inputs, outputs)\n",
        "        model.compile(optimizer=tf.keras.optimizers.Adam(lr),\n",
        "                      loss='categorical_crossentropy',\n",
        "                      metrics=['accuracy'])\n",
        "        return model\n",
        "\n",
        "    class _ModelsShim:\n",
        "        @staticmethod\n",
        "        def model_conv1D(lr, N, inshape):\n",
        "            return _model_conv1D(lr, N, inshape)\n",
        "\n",
        "    models_ddos = _ModelsShim()\n",
        "\n",
        "# -- Conv1d\n",
        "model = models_ddos.model_conv1D(lr=1e-4, N=64, inshape=inshape)\n",
        "# -- Dense\n",
        "# model = models_ddos.model_dense(lr=1e-4, N=64, inshape=inshape)\n",
        "# -- LSTM\n",
        "# model = models_ddos.model_lstm(lr=1e-4, N=64, inshape=inshape)\n",
        "\n",
        "model.summary()\n",
        "# -----------------------------------------------------------------------------\n",
        "# print model to an image file\n",
        "# dot_img_file = 'model1.png'\n",
        "# plot_model(model, to_file=dot_img_file, show_shapes=True)"
      ],
      "metadata": {
        "colab": {
          "base_uri": "https://localhost:8080/",
          "height": 111
        },
        "id": "-BoZjL8fxMPE",
        "outputId": "e5c73edb-5a00-42e2-fc70-83f5acdf10ec"
      },
      "execution_count": 10,
      "outputs": [
        {
          "output_type": "error",
          "ename": "IndentationError",
          "evalue": "expected an indented block after 'if' statement on line 3 (ipython-input-3093621710.py, line 4)",
          "traceback": [
            "\u001b[0;36m  File \u001b[0;32m\"/tmp/ipython-input-3093621710.py\"\u001b[0;36m, line \u001b[0;32m4\u001b[0m\n\u001b[0;31m    import tensorflow as tf\u001b[0m\n\u001b[0m    ^\u001b[0m\n\u001b[0;31mIndentationError\u001b[0m\u001b[0;31m:\u001b[0m expected an indented block after 'if' statement on line 3\n"
          ]
        }
      ]
    },
    {
      "cell_type": "code",
      "source": [
        "# -- TRAIN MODEL --------------------------------------------------------------\n",
        "history = model.fit(\n",
        "    train_data,\n",
        "    train_label,\n",
        "    shuffle=True,\n",
        "    epochs=epochs,\n",
        "    batch_size=256,  # 256,#128,#32, 64\n",
        "    # validation_data=validation_generator,\n",
        "    # validation_split=0.2,\n",
        "    # validation_data=(val_data,val_label),\n",
        "    validation_data=(val_data, val_label),\n",
        "    callbacks=[modelCheckPoint],\n",
        "    class_weight=class_weights\n",
        ")"
      ],
      "metadata": {
        "id": "E3IZ73dGKE6z"
      },
      "execution_count": null,
      "outputs": []
    },
    {
      "cell_type": "code",
      "source": [
        "# -- Load best model ----------------------------------------------------------\n",
        "# προσοχή: φιλτράρουμε μόνο .hdf5 και ελέγχουμε αν υπάρχουν αρχεία\n",
        "ckpt_dir = './savemodels'\n",
        "files = [f for f in os.listdir(ckpt_dir) if f.endswith('.weights.h5')]\n",
        "files = np.sort(files)\n",
        "if files.size == 0:\n",
        "    raise FileNotFoundError(\"Δεν βρέθηκαν checkpoints (.weights.h5) στον φάκελο ./savemodels\")\n",
        "\n",
        "best_model = files[files.size - 1]\n",
        "print('best_model=', best_model)\n",
        "model.load_weights(os.path.join(ckpt_dir, best_model))"
      ],
      "metadata": {
        "id": "s2aYvnMExMFr"
      },
      "execution_count": null,
      "outputs": []
    },
    {
      "cell_type": "code",
      "source": [
        "# --Confusion matrix ----------------------------------------------------------\n",
        "print('TEST DATA-Confusion matrix:')\n",
        "pred = model.predict(test_data)\n",
        "pred_y = pred.argmax(axis=-1)\n",
        "\n",
        "cm = confusion_matrix(test_labelp.astype('int32'), pred_y)\n",
        "print(cm)\n",
        "\n",
        "print('Accuracy ratios for each class')\n",
        "print('Class 0 =', cm[0, 0] / np.sum(cm[0, :]))\n",
        "print('Class 1 =', cm[1, 1] / np.sum(cm[1, :]))\n",
        "print('Class 2 =', cm[2, 2] / np.sum(cm[2, :]))"
      ],
      "metadata": {
        "id": "LpxJL0eLKxxQ"
      },
      "execution_count": null,
      "outputs": []
    },
    {
      "cell_type": "code",
      "source": [
        "# -- Confusion matrix plot\n",
        "from sklearn.metrics import confusion_matrix, ConfusionMatrixDisplay\n",
        "# labels από τα πραγματικά labels του test set (0/1/2)\n",
        "labels_disp = np.array([str(c) for c in sorted(np.unique(test_labelp.astype('int32')))])\n",
        "\n",
        "cmo = ConfusionMatrixDisplay(cm, display_labels=labels_disp)\n",
        "fig, ax = plt.subplots(figsize=(8, 8))\n",
        "cmo.plot(ax=ax, xticks_rotation=45)\n",
        "plt.tight_layout()"
      ],
      "metadata": {
        "id": "NozI1mJbK-3l"
      },
      "execution_count": null,
      "outputs": []
    },
    {
      "cell_type": "code",
      "source": [
        "# Plot training and validation accuracy and loss graphs\n",
        "acc = history.history['accuracy']\n",
        "val_acc = history.history['val_accuracy']\n",
        "loss = history.history['loss']\n",
        "val_loss = history.history['val_loss']\n",
        "\n",
        "np.save('historydata.npy', [acc, val_acc, loss, val_loss])\n",
        "\n",
        "[acc, val_acc, loss, val_loss] = np.load('historydata.npy', allow_pickle=True)\n",
        "\n",
        "plt.figure()\n",
        "epochs = range(len(acc))\n",
        "plt.plot(epochs, acc, 'b', label='Training acc')\n",
        "plt.plot(epochs, val_acc, 'r.', label='Validation acc')\n",
        "plt.title('Training and validation accuracy')\n",
        "plt.xlabel('Epochs')\n",
        "plt.ylabel('Accuracy')\n",
        "plt.legend()\n",
        "\n",
        "plt.figure()\n",
        "plt.plot(epochs, loss, 'b', label='Training loss')\n",
        "plt.plot(epochs, val_loss, 'r.', label='Validation loss')\n",
        "plt.title('Training and validation loss')\n",
        "plt.xlabel('Epochs')\n",
        "plt.ylabel('Loss')\n",
        "plt.legend()\n",
        "plt.show()"
      ],
      "metadata": {
        "id": "kqoZaSafLDkq"
      },
      "execution_count": null,
      "outputs": []
    }
  ]
}