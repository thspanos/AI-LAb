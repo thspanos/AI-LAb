{
  "nbformat": 4,
  "nbformat_minor": 0,
  "metadata": {
    "colab": {
      "provenance": [],
      "include_colab_link": true
    },
    "kernelspec": {
      "name": "python3",
      "display_name": "Python 3"
    },
    "language_info": {
      "name": "python"
    }
  },
  "cells": [
    {
      "cell_type": "markdown",
      "metadata": {
        "id": "view-in-github",
        "colab_type": "text"
      },
      "source": [
        "<a href=\"https://colab.research.google.com/github/thspanos/AI-LAb/blob/main/Thomas_Spanos_OnlineLearning_IPS.ipynb\" target=\"_parent\"><img src=\"https://colab.research.google.com/assets/colab-badge.svg\" alt=\"Open In Colab\"/></a>"
      ]
    },
    {
      "cell_type": "code",
      "execution_count": 1,
      "metadata": {
        "id": "7X5_s25o4cIP"
      },
      "outputs": [],
      "source": [
        "#εισαγωγή βιβλιοθηκών - πακέτων\n",
        "import pandas as pd\n",
        "from sklearn.model_selection import train_test_split\n",
        "from sklearn.preprocessing import StandardScaler, OneHotEncoder\n",
        "from sklearn.ensemble import RandomForestClassifier\n",
        "from sklearn.metrics import accuracy_score, classification_report\n",
        "from imblearn.over_sampling import SMOTENC\n",
        "from imblearn.pipeline import Pipeline as ImbPipeline\n",
        "from sklearn.compose import ColumnTransformer\n",
        "import requests\n",
        "from io import BytesIO\n",
        "import gzip\n",
        "import numpy as np\n"
      ]
    },
    {
      "cell_type": "code",
      "source": [
        "#κατέβασμα και αποσυμπίεση του συνόλου δεδομένων KDD Cup 1999\n",
        "url = \"http://kdd.ics.uci.edu/databases/kddcup99/kddcup.data_10_percent.gz\"\n",
        "response = requests.get(url, stream=True)\n",
        "compressed_file = BytesIO(response.content)\n",
        "decompressed_file = gzip.GzipFile(fileobj=compressed_file)"
      ],
      "metadata": {
        "id": "auOK6FYlFa1A"
      },
      "execution_count": 2,
      "outputs": []
    },
    {
      "cell_type": "code",
      "source": [
        "#φόρτωση του συνόλου δεδομένων\n",
        "columns = [\"duration\", \"protocol_type\", \"service\", \"flag\", \"src_bytes\", \"dst_bytes\", \"land\",\n",
        "           \"wrong_fragment\", \"urgent\", \"hot\", \"num_failed_logins\", \"logged_in\", \"num_compromised\",\n",
        "           \"root_shell\", \"su_attempted\", \"num_root\", \"num_file_creations\", \"num_shells\",\n",
        "           \"num_access_files\", \"num_outbound_cmds\", \"is_host_login\", \"is_guest_login\",\n",
        "           \"count\", \"srv_count\", \"serror_rate\", \"srv_serror_rate\", \"rerror_rate\", \"srv_rerror_rate\",\n",
        "           \"same_srv_rate\", \"diff_srv_rate\", \"srv_diff_host_rate\", \"dst_host_count\",\n",
        "           \"dst_host_srv_count\", \"dst_host_same_srv_rate\", \"dst_host_diff_srv_rate\",\n",
        "           \"dst_host_same_src_port_rate\", \"dst_host_srv_diff_host_rate\", \"dst_host_serror_rate\",\n",
        "           \"dst_host_srv_serror_rate\", \"dst_host_rerror_rate\", \"dst_host_srv_rerror_rate\", \"target\"]\n",
        "\n",
        "df = pd.read_csv(decompressed_file, header=None, names=columns)"
      ],
      "metadata": {
        "id": "Re0DAhTQFmii"
      },
      "execution_count": 3,
      "outputs": []
    },
    {
      "cell_type": "code",
      "source": [
        "#δημιουργία του συνόλου σε δύο κλάσεις Normal (0) και Attack (1)\n",
        "X = df.drop(\"target\", axis=1)\n",
        "y = df[\"target\"].apply(lambda x: 0 if x == \"normal.\" else 1)"
      ],
      "metadata": {
        "id": "wLkddNFCFvDE"
      },
      "execution_count": 4,
      "outputs": []
    },
    {
      "cell_type": "code",
      "source": [
        "#έλεγχος κλάσεων\n",
        "print(\"Κατανομή κλάσεων y:\")\n",
        "print(y.value_counts())"
      ],
      "metadata": {
        "colab": {
          "base_uri": "https://localhost:8080/"
        },
        "id": "k6WAjay2FxhG",
        "outputId": "4c1e15bd-5cfb-48fa-830a-4b772cfef45c"
      },
      "execution_count": 5,
      "outputs": [
        {
          "output_type": "stream",
          "name": "stdout",
          "text": [
            "Κατανομή κλάσεων y:\n",
            "target\n",
            "1    396743\n",
            "0     97278\n",
            "Name: count, dtype: int64\n"
          ]
        }
      ]
    },
    {
      "cell_type": "code",
      "source": [
        "#εντοπισμός κατηγορικών μεταβλητών\n",
        "categorical_features = ['protocol_type', 'service', 'flag']"
      ],
      "metadata": {
        "id": "HuamrMd8D6jg"
      },
      "execution_count": 6,
      "outputs": []
    },
    {
      "cell_type": "code",
      "source": [
        "#διαχωρισμός κατηγορικών και αριθμητικών μεταβλητών\n",
        "numeric_features = X.columns.difference(categorical_features)"
      ],
      "metadata": {
        "id": "v7e46I8TGO6-"
      },
      "execution_count": 7,
      "outputs": []
    },
    {
      "cell_type": "code",
      "source": [
        "#δημιουργία διοχέτευσης (αγωγού) προεπεξεργασίας με κωδικοποίηση μίας δέσμης (one-hot encoding) για κατηγορικές μεταβλητές\n",
        "preprocessor = ColumnTransformer(\n",
        "    transformers=[\n",
        "        ('num', StandardScaler(), numeric_features),\n",
        "        ('cat', OneHotEncoder(handle_unknown='ignore'), categorical_features)\n",
        "    ])"
      ],
      "metadata": {
        "id": "-S33HRutGRic"
      },
      "execution_count": 8,
      "outputs": []
    },
    {
      "cell_type": "code",
      "source": [
        "#τμηματοποίηση δεδομένων σε σύνολα εκαπίδευσης και δοκιμών\n",
        "X_train, X_test, y_train, y_test = train_test_split(X, y, test_size=0.3, random_state=42)"
      ],
      "metadata": {
        "id": "dHq01iyWGUKY"
      },
      "execution_count": 9,
      "outputs": []
    },
    {
      "cell_type": "code",
      "source": [
        "#δημιουργία διοχέτευσης (αγωγού) SMOTE για τις αριθμητικές μεταβλητές μόνο\n",
        "pipeline = ImbPipeline([\n",
        "    ('preprocessor', preprocessor),\n",
        "    ('smote', SMOTENC(random_state=42, categorical_features=[X.columns.get_loc(col) for col in categorical_features])),\n",
        "    ('classifier', RandomForestClassifier(random_state=42))\n",
        "])"
      ],
      "metadata": {
        "id": "E0vK8be-GXF8"
      },
      "execution_count": 10,
      "outputs": []
    },
    {
      "cell_type": "code",
      "source": [
        "#καθορισμός κατωφλίου (threshold) για την διακοπή διακτυακής κίνησης\n",
        "blocking_threshold = 0.9"
      ],
      "metadata": {
        "id": "X7zgFQJ6GZc2"
      },
      "execution_count": 11,
      "outputs": []
    },
    {
      "cell_type": "code",
      "source": [
        "#δημιουργία βρόχου συνεχούς - αυξητικής μάθησης\n",
        "batch_size = 10000\n",
        "for epoch in range(1, 3):  #δυνατότητα αλλαγής των εποχών\n",
        "    for i in range(0, len(X_train), batch_size):\n",
        "        X_batch = X_train.iloc[i:i + batch_size]\n",
        "        y_batch = y_train.iloc[i:i + batch_size]\n",
        "\n",
        "        #σταδιακή ενημέρωση του μοντέλου με κάθε ροή (batch) δεδομένων\n",
        "        pipeline.fit(X_batch, y_batch)\n",
        "\n",
        "        #περιοδική ενημέρωση του μοντέλου στο σύνολο δοκιμών\n",
        "        if i % batch_size == 0 and i > 0:\n",
        "            y_pred_proba = pipeline.predict_proba(X_test)[:, 1]\n",
        "\n",
        "            #αποκλεισμός δικτυακής κυκλοφορίας εάν η προβλεπόμενη πιθανότητα υπερβαίνει το καθορισμένο όριο\n",
        "            blocked_indices = np.where(y_pred_proba > blocking_threshold)[0]\n",
        "            if len(blocked_indices) > 0:\n",
        "                print(f\"Blocking {len(blocked_indices)} malicious traffic instances.\")\n",
        "\n",
        "            accuracy = accuracy_score(y_test, y_pred_proba > blocking_threshold)\n",
        "            print(f\"Epoch {epoch}, Iteration {i}, Test Accuracy: {accuracy}\")"
      ],
      "metadata": {
        "colab": {
          "base_uri": "https://localhost:8080/"
        },
        "id": "tZoSH8G_GcPI",
        "outputId": "91160b62-8e89-4850-d75a-a9fa086be760"
      },
      "execution_count": 12,
      "outputs": [
        {
          "output_type": "stream",
          "name": "stdout",
          "text": [
            "Blocking 118380 malicious traffic instances.\n",
            "Epoch 1, Iteration 10000, Test Accuracy: 0.9957154520366784\n",
            "Blocking 118206 malicious traffic instances.\n",
            "Epoch 1, Iteration 20000, Test Accuracy: 0.9945414184215321\n",
            "Blocking 118321 malicious traffic instances.\n",
            "Epoch 1, Iteration 30000, Test Accuracy: 0.995317360178669\n",
            "Blocking 118405 malicious traffic instances.\n",
            "Epoch 1, Iteration 40000, Test Accuracy: 0.9958841350273604\n",
            "Blocking 118424 malicious traffic instances.\n",
            "Epoch 1, Iteration 50000, Test Accuracy: 0.9960123341002787\n",
            "Blocking 118137 malicious traffic instances.\n",
            "Epoch 1, Iteration 60000, Test Accuracy: 0.9940758533672499\n",
            "Blocking 118123 malicious traffic instances.\n",
            "Epoch 1, Iteration 70000, Test Accuracy: 0.993981390892468\n",
            "Blocking 118434 malicious traffic instances.\n",
            "Epoch 1, Iteration 80000, Test Accuracy: 0.9960798072965514\n",
            "Blocking 118330 malicious traffic instances.\n",
            "Epoch 1, Iteration 90000, Test Accuracy: 0.9953780860553145\n",
            "Blocking 118272 malicious traffic instances.\n",
            "Epoch 1, Iteration 100000, Test Accuracy: 0.9949867415169324\n",
            "Blocking 118303 malicious traffic instances.\n",
            "Epoch 1, Iteration 110000, Test Accuracy: 0.995195908425378\n",
            "Blocking 118286 malicious traffic instances.\n",
            "Epoch 1, Iteration 120000, Test Accuracy: 0.9950812039917143\n",
            "Blocking 118287 malicious traffic instances.\n",
            "Epoch 1, Iteration 130000, Test Accuracy: 0.9950879513113415\n",
            "Blocking 118432 malicious traffic instances.\n",
            "Epoch 1, Iteration 140000, Test Accuracy: 0.9960663126572968\n",
            "Blocking 118344 malicious traffic instances.\n",
            "Epoch 1, Iteration 150000, Test Accuracy: 0.9954725485300964\n",
            "Blocking 118280 malicious traffic instances.\n",
            "Epoch 1, Iteration 160000, Test Accuracy: 0.9950407200739506\n",
            "Blocking 118293 malicious traffic instances.\n",
            "Epoch 1, Iteration 170000, Test Accuracy: 0.9951284352291052\n",
            "Blocking 118233 malicious traffic instances.\n",
            "Epoch 1, Iteration 180000, Test Accuracy: 0.9947235960514685\n",
            "Blocking 118388 malicious traffic instances.\n",
            "Epoch 1, Iteration 190000, Test Accuracy: 0.9957694305936966\n",
            "Blocking 118444 malicious traffic instances.\n",
            "Epoch 1, Iteration 200000, Test Accuracy: 0.9961472804928242\n",
            "Blocking 118380 malicious traffic instances.\n",
            "Epoch 1, Iteration 210000, Test Accuracy: 0.9957154520366784\n",
            "Blocking 118183 malicious traffic instances.\n",
            "Epoch 1, Iteration 220000, Test Accuracy: 0.9943862300701046\n",
            "Blocking 118341 malicious traffic instances.\n",
            "Epoch 1, Iteration 230000, Test Accuracy: 0.9954523065712146\n",
            "Blocking 118223 malicious traffic instances.\n",
            "Epoch 1, Iteration 240000, Test Accuracy: 0.9946561228551958\n",
            "Blocking 118305 malicious traffic instances.\n",
            "Epoch 1, Iteration 250000, Test Accuracy: 0.9952094030646326\n",
            "Blocking 118300 malicious traffic instances.\n",
            "Epoch 1, Iteration 260000, Test Accuracy: 0.9951756664664961\n",
            "Blocking 118276 malicious traffic instances.\n",
            "Epoch 1, Iteration 270000, Test Accuracy: 0.9950137307954415\n",
            "Blocking 118223 malicious traffic instances.\n",
            "Epoch 1, Iteration 280000, Test Accuracy: 0.9946561228551958\n",
            "Blocking 118282 malicious traffic instances.\n",
            "Epoch 1, Iteration 290000, Test Accuracy: 0.9950542147132052\n",
            "Blocking 118485 malicious traffic instances.\n",
            "Epoch 1, Iteration 300000, Test Accuracy: 0.9964239205975426\n",
            "Blocking 118380 malicious traffic instances.\n",
            "Epoch 1, Iteration 310000, Test Accuracy: 0.9957154520366784\n",
            "Blocking 118276 malicious traffic instances.\n",
            "Epoch 1, Iteration 320000, Test Accuracy: 0.9950137307954415\n",
            "Blocking 118412 malicious traffic instances.\n",
            "Epoch 1, Iteration 330000, Test Accuracy: 0.9959313662647513\n",
            "Blocking 118164 malicious traffic instances.\n",
            "Epoch 1, Iteration 340000, Test Accuracy: 0.9942580309971863\n",
            "Blocking 118380 malicious traffic instances.\n",
            "Epoch 2, Iteration 10000, Test Accuracy: 0.9957154520366784\n",
            "Blocking 118206 malicious traffic instances.\n",
            "Epoch 2, Iteration 20000, Test Accuracy: 0.9945414184215321\n",
            "Blocking 118321 malicious traffic instances.\n",
            "Epoch 2, Iteration 30000, Test Accuracy: 0.995317360178669\n",
            "Blocking 118405 malicious traffic instances.\n",
            "Epoch 2, Iteration 40000, Test Accuracy: 0.9958841350273604\n",
            "Blocking 118424 malicious traffic instances.\n",
            "Epoch 2, Iteration 50000, Test Accuracy: 0.9960123341002787\n",
            "Blocking 118137 malicious traffic instances.\n",
            "Epoch 2, Iteration 60000, Test Accuracy: 0.9940758533672499\n",
            "Blocking 118123 malicious traffic instances.\n",
            "Epoch 2, Iteration 70000, Test Accuracy: 0.993981390892468\n",
            "Blocking 118434 malicious traffic instances.\n",
            "Epoch 2, Iteration 80000, Test Accuracy: 0.9960798072965514\n",
            "Blocking 118330 malicious traffic instances.\n",
            "Epoch 2, Iteration 90000, Test Accuracy: 0.9953780860553145\n",
            "Blocking 118272 malicious traffic instances.\n",
            "Epoch 2, Iteration 100000, Test Accuracy: 0.9949867415169324\n",
            "Blocking 118303 malicious traffic instances.\n",
            "Epoch 2, Iteration 110000, Test Accuracy: 0.995195908425378\n",
            "Blocking 118286 malicious traffic instances.\n",
            "Epoch 2, Iteration 120000, Test Accuracy: 0.9950812039917143\n",
            "Blocking 118287 malicious traffic instances.\n",
            "Epoch 2, Iteration 130000, Test Accuracy: 0.9950879513113415\n",
            "Blocking 118432 malicious traffic instances.\n",
            "Epoch 2, Iteration 140000, Test Accuracy: 0.9960663126572968\n",
            "Blocking 118344 malicious traffic instances.\n",
            "Epoch 2, Iteration 150000, Test Accuracy: 0.9954725485300964\n",
            "Blocking 118280 malicious traffic instances.\n",
            "Epoch 2, Iteration 160000, Test Accuracy: 0.9950407200739506\n",
            "Blocking 118293 malicious traffic instances.\n",
            "Epoch 2, Iteration 170000, Test Accuracy: 0.9951284352291052\n",
            "Blocking 118233 malicious traffic instances.\n",
            "Epoch 2, Iteration 180000, Test Accuracy: 0.9947235960514685\n",
            "Blocking 118388 malicious traffic instances.\n",
            "Epoch 2, Iteration 190000, Test Accuracy: 0.9957694305936966\n",
            "Blocking 118444 malicious traffic instances.\n",
            "Epoch 2, Iteration 200000, Test Accuracy: 0.9961472804928242\n",
            "Blocking 118380 malicious traffic instances.\n",
            "Epoch 2, Iteration 210000, Test Accuracy: 0.9957154520366784\n",
            "Blocking 118183 malicious traffic instances.\n",
            "Epoch 2, Iteration 220000, Test Accuracy: 0.9943862300701046\n",
            "Blocking 118341 malicious traffic instances.\n",
            "Epoch 2, Iteration 230000, Test Accuracy: 0.9954523065712146\n",
            "Blocking 118223 malicious traffic instances.\n",
            "Epoch 2, Iteration 240000, Test Accuracy: 0.9946561228551958\n",
            "Blocking 118305 malicious traffic instances.\n",
            "Epoch 2, Iteration 250000, Test Accuracy: 0.9952094030646326\n",
            "Blocking 118300 malicious traffic instances.\n",
            "Epoch 2, Iteration 260000, Test Accuracy: 0.9951756664664961\n",
            "Blocking 118276 malicious traffic instances.\n",
            "Epoch 2, Iteration 270000, Test Accuracy: 0.9950137307954415\n",
            "Blocking 118223 malicious traffic instances.\n",
            "Epoch 2, Iteration 280000, Test Accuracy: 0.9946561228551958\n",
            "Blocking 118282 malicious traffic instances.\n",
            "Epoch 2, Iteration 290000, Test Accuracy: 0.9950542147132052\n",
            "Blocking 118485 malicious traffic instances.\n",
            "Epoch 2, Iteration 300000, Test Accuracy: 0.9964239205975426\n",
            "Blocking 118380 malicious traffic instances.\n",
            "Epoch 2, Iteration 310000, Test Accuracy: 0.9957154520366784\n",
            "Blocking 118276 malicious traffic instances.\n",
            "Epoch 2, Iteration 320000, Test Accuracy: 0.9950137307954415\n",
            "Blocking 118412 malicious traffic instances.\n",
            "Epoch 2, Iteration 330000, Test Accuracy: 0.9959313662647513\n",
            "Blocking 118164 malicious traffic instances.\n",
            "Epoch 2, Iteration 340000, Test Accuracy: 0.9942580309971863\n"
          ]
        }
      ]
    },
    {
      "cell_type": "code",
      "source": [
        "#τελική αξιολόγηση του μοντέλου στο σύνολο δοκιμών\n",
        "y_pred_proba = pipeline.predict_proba(X_test)[:, 1]\n",
        "blocked_indices = np.where(y_pred_proba > blocking_threshold)[0]\n",
        "if len(blocked_indices) > 0:\n",
        "    print(f\"Blocking {len(blocked_indices)} malicious traffic instances.\")\n",
        "\n",
        "accuracy = accuracy_score(y_test, y_pred_proba > blocking_threshold)\n",
        "classification_rep = classification_report(y_test, y_pred_proba > blocking_threshold)\n",
        "\n",
        "#εκτύπωση τελικών αποτελεσμάτων\n",
        "print(f\"Final Test Accuracy: {accuracy}\")\n",
        "print(\"Classification Report:\")\n",
        "print(classification_rep)"
      ],
      "metadata": {
        "id": "cNsSWuwLGfDI",
        "colab": {
          "base_uri": "https://localhost:8080/"
        },
        "outputId": "ebfa4371-a00a-41ec-f0b6-2fc019d9c94d"
      },
      "execution_count": 13,
      "outputs": [
        {
          "output_type": "stream",
          "name": "stdout",
          "text": [
            "Blocking 118164 malicious traffic instances.\n",
            "Final Test Accuracy: 0.9942580309971863\n",
            "Classification Report:\n",
            "              precision    recall  f1-score   support\n",
            "\n",
            "           0       0.97      1.00      0.99     29192\n",
            "           1       1.00      0.99      1.00    119015\n",
            "\n",
            "    accuracy                           0.99    148207\n",
            "   macro avg       0.99      1.00      0.99    148207\n",
            "weighted avg       0.99      0.99      0.99    148207\n",
            "\n"
          ]
        }
      ]
    }
  ]
}